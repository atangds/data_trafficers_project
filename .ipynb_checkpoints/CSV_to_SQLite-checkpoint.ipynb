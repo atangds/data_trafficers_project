{
 "cells": [
  {
   "cell_type": "code",
   "execution_count": 128,
   "metadata": {},
   "outputs": [],
   "source": [
    "import pandas as pd\n",
    "import numpy as np\n",
    "import sqlalchemy\n",
    "from sqlalchemy.ext.declarative import declarative_base\n",
    "Base = declarative_base()\n",
    "from sqlalchemy import Column, Integer, String, Float, DateTime, Text, ForeignKey\n",
    "from sqlalchemy import create_engine, MetaData\n",
    "from sqlalchemy.orm import sessionmaker"
   ]
  },
  {
   "cell_type": "code",
   "execution_count": 129,
   "metadata": {},
   "outputs": [],
   "source": [
    "travel_sensor_df = pd.read_csv(\"travel_sensor.csv\")\n",
    "sensor_data_df = pd.read_csv(\"sensor_data.csv\")\n",
    "traffic_detectors_df = pd.read_csv(\"traffic_detectors.csv\")"
   ]
  },
  {
   "cell_type": "code",
   "execution_count": 130,
   "metadata": {},
   "outputs": [],
   "source": [
    "engine = create_engine(f\"sqlite:///austin_traffic.sqlite\")\n",
    "conn = engine.connect()"
   ]
  },
  {
   "cell_type": "code",
   "execution_count": 131,
   "metadata": {},
   "outputs": [],
   "source": [
    "class Detector(Base):\n",
    "    __tablename__ = 'traffic_detector'\n",
    "    __table_args__ = {'extend_existing': True} \n",
    "    index = Column(Integer(), primary_key=True)\n",
    "    atd_location_id = Column(String(20))\n",
    "    created_date = Column(String(25))\n",
    "    detector_id = Column(Integer())\n",
    "    detector_status = Column(String(20))\n",
    "    detector_type = Column(String(20))\n",
    "    ip_comm_status = Column(String(20))\n",
    "    location_latitude = Column(Integer())\n",
    "    location_longitude = Column(Integer())\n",
    "    location_name = Column(String(50))\n",
    "    modified_date = Column(String(25))\n",
    "    signal_id = Column(Integer())"
   ]
  },
  {
   "cell_type": "code",
   "execution_count": 132,
   "metadata": {},
   "outputs": [],
   "source": [
    "class Data(Base):\n",
    "    __tablename__ = 'sensor_data'\n",
    "    index = Column(Integer(), primary_key=True)\n",
    "    curdatetime = Column(Integer())\n",
    "    day = Column(Integer())\n",
    "    day_of_week = Column(Integer())\n",
    "    detid = Column(Integer())\n",
    "    detname = Column(String(20))\n",
    "    direction = Column(String(20))\n",
    "    hour = Column(Integer())\n",
    "    int_id = Column(Integer())\n",
    "    intname = Column(String(20))\n",
    "    minute = Column(Integer())\n",
    "    month = Column(Integer())\n",
    "    occupancy = Column(Float)\n",
    "    row_id = Column(String(50))\n",
    "    speed = Column(Float)\n",
    "    timebin = Column(String(20))\n",
    "    volume = Column(Float)\n",
    "    year = Column(Integer())"
   ]
  },
  {
   "cell_type": "code",
   "execution_count": 133,
   "metadata": {},
   "outputs": [],
   "source": [
    "class Sensor(Base):\n",
    "    __tablename__ = 'travel_sensor'\n",
    "    index = Column(Integer(), primary_key=True)\n",
    "    atd_location_id = Column(String(20))\n",
    "    atd_sensor_id = Column(Integer())\n",
    "    coa_intersection_id = Column(Integer())\n",
    "    comm_status_datetime_utc = Column(String(50))\n",
    "    council_district = Column(Integer())\n",
    "    cross_st = Column(String(20))\n",
    "    cross_st_block = Column(Integer())\n",
    "    ip_comm_status = Column(String(20))\n",
    "    kits_id = Column(Integer())\n",
    "    landmark = Column(String(20))\n",
    "    location = Column(String(70))\n",
    "    location_latitude = Column(Integer())\n",
    "    location_longitude = Column(Integer())\n",
    "    location_name = Column(String(50))\n",
    "    location_type = Column(String(20))\n",
    "    modified_date = Column(String(25))\n",
    "    primary_st = Column(String(20))\n",
    "    primary_st_aka = Column(String(20))\n",
    "    primary_st_block = Column(Integer())\n",
    "    reader_id = Column(Integer())\n",
    "    sensor_mfg = Column(String(20))\n",
    "    sensor_status = Column(String(20))\n",
    "    sensor_type = Column(String(20))\n",
    "    turn_on_date = Column(String(25))"
   ]
  },
  {
   "cell_type": "code",
   "execution_count": 134,
   "metadata": {},
   "outputs": [],
   "source": [
    "Base.metadata.create_all(engine)"
   ]
  },
  {
   "cell_type": "code",
   "execution_count": 135,
   "metadata": {},
   "outputs": [],
   "source": [
    "travel_sensor_data = travel_sensor_df.to_dict(orient=\"records\")\n",
    "sensor_data_data = sensor_data_df.to_dict(orient=\"records\")\n",
    "traffic_detectors_data = traffic_detectors_df.to_dict(orient=\"records\")"
   ]
  },
  {
   "cell_type": "code",
   "execution_count": 136,
   "metadata": {},
   "outputs": [],
   "source": [
    "# Use MetaData from SQLAlchemy to reflect the tables\n",
    "metadata = sqlalchemy.schema.MetaData(bind=engine)\n",
    "metadata.reflect()"
   ]
  },
  {
   "cell_type": "code",
   "execution_count": 137,
   "metadata": {},
   "outputs": [
    {
     "data": {
      "text/plain": [
       "<sqlalchemy.engine.result.ResultProxy at 0x26985d97518>"
      ]
     },
     "execution_count": 137,
     "metadata": {},
     "output_type": "execute_result"
    }
   ],
   "source": [
    "travel_sensor_table = sqlalchemy.Table('travel_sensor', metadata, autoload=True)\n",
    "\n",
    "conn.execute(travel_sensor_table.delete())\n",
    "\n",
    "conn.execute(travel_sensor_table.insert(), travel_sensor_data)"
   ]
  },
  {
   "cell_type": "code",
   "execution_count": 138,
   "metadata": {},
   "outputs": [
    {
     "data": {
      "text/plain": [
       "<sqlalchemy.engine.result.ResultProxy at 0x26985d97eb8>"
      ]
     },
     "execution_count": 138,
     "metadata": {},
     "output_type": "execute_result"
    }
   ],
   "source": [
    "sensor_data_table = sqlalchemy.Table('sensor_data', metadata, autoload=True)\n",
    "\n",
    "conn.execute(sensor_data_table.delete())\n",
    "\n",
    "conn.execute(sensor_data_table.insert(), sensor_data_data)"
   ]
  },
  {
   "cell_type": "code",
   "execution_count": 139,
   "metadata": {},
   "outputs": [
    {
     "data": {
      "text/plain": [
       "<sqlalchemy.engine.result.ResultProxy at 0x26985dea5f8>"
      ]
     },
     "execution_count": 139,
     "metadata": {},
     "output_type": "execute_result"
    }
   ],
   "source": [
    "traffic_detectors_table = sqlalchemy.Table('traffic_detector', metadata, autoload=True)\n",
    "\n",
    "conn.execute(traffic_detectors_table.delete())\n",
    "\n",
    "conn.execute(traffic_detectors_table.insert(), traffic_detectors_data)"
   ]
  },
  {
   "cell_type": "code",
   "execution_count": 140,
   "metadata": {},
   "outputs": [
    {
     "data": {
      "text/plain": [
       "[(1, 'LOC16-004875', '2017-06-28T05:00:00', 1550, 'OK', 'LOOP', None, 30.4469604, -97.7977066, '9700 BLK ANDERSON MILL RD (Bethany)', '1498626000', 997),\n",
       " (2, 'LOC16-004875', '2017-06-28T05:00:00', 1551, 'OK', 'LOOP', None, 30.4469604, -97.7977066, '9700 BLK ANDERSON MILL RD (Bethany)', '1498626000', 997)]"
      ]
     },
     "execution_count": 140,
     "metadata": {},
     "output_type": "execute_result"
    }
   ],
   "source": [
    "engine.execute(\"select * from traffic_detector limit 2\").fetchall()"
   ]
  },
  {
   "cell_type": "code",
   "execution_count": 141,
   "metadata": {},
   "outputs": [
    {
     "data": {
      "text/plain": [
       "[(1, 1534119301, 12, 0, 87, 'SB_out', 'SB', 19, 23, 'BURNETPALM WAY', 15, 8, 2.0, '1abed4f17c5a1a00ea9a49067e7e4d9a', 37.0, '19:15', 36.0, 2018),\n",
       " (2, 1534119301, 12, 0, 88, 'SB_in', 'SB', 19, 23, 'BURNETPALM WAY', 15, 8, 2.0, '05234c341297c5bbf669b012176bc9d5', 35.0, '19:15', 49.0, 2018)]"
      ]
     },
     "execution_count": 141,
     "metadata": {},
     "output_type": "execute_result"
    }
   ],
   "source": [
    "engine.execute(\"select * from sensor_data limit 2\").fetchall()"
   ]
  },
  {
   "cell_type": "code",
   "execution_count": 142,
   "metadata": {},
   "outputs": [
    {
     "data": {
      "text/plain": [
       "[(1, 'LOC17-010425', 158, None, '2018-03-29T03:35:00.000', 9, '  ', None, 'ONLINE', 20, None, \"{'type': 'Point', 'coordinates': [-97.737262, 30.261476]}\", 30.261476000000002, -97.737262, '700 BLK E CESAR CHAVEZ ST', 'ROADWAY', '2017-07-03T11:04:00.000', ' CESAR CHAVEZ ST', None, 700, None, 'Wavetronix', 'TURNED_ON', 'RADAR', '2015-10-15T00:00:00.000'),\n",
       " (2, 'LOC17-010430', 159, 5155709, '2018-03-29T03:35:00.000', 9, ' JOHANNA ST', 101, 'ONLINE', 17, 'Fulmore Middle School', \"{'type': 'Point', 'coordinates': [-97.751737, 30.244513]}\", 30.244513, -97.751737, ' CONGRESS AVE / JOHANNA ST (Fulmore Middle School)', 'ROADWAY', '2017-07-03T11:15:00.000', ' CONGRESS AVE', None, 1900, None, 'Wavetronix', 'TURNED_ON', 'RADAR', '2016-04-04T00:00:00.000')]"
      ]
     },
     "execution_count": 142,
     "metadata": {},
     "output_type": "execute_result"
    }
   ],
   "source": [
    "engine.execute(\"select * from travel_sensor limit 2\").fetchall()"
   ]
  }
 ],
 "metadata": {
  "kernelspec": {
   "display_name": "Python [conda env:PythonData]",
   "language": "python",
   "name": "conda-env-PythonData-py"
  },
  "language_info": {
   "codemirror_mode": {
    "name": "ipython",
    "version": 3
   },
   "file_extension": ".py",
   "mimetype": "text/x-python",
   "name": "python",
   "nbconvert_exporter": "python",
   "pygments_lexer": "ipython3",
   "version": "3.6.4"
  }
 },
 "nbformat": 4,
 "nbformat_minor": 2
}
